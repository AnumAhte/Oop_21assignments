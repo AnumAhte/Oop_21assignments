{
  "nbformat": 4,
  "nbformat_minor": 0,
  "metadata": {
    "colab": {
      "provenance": [],
      "authorship_tag": "ABX9TyM6q7yQK/PB4gERRicrvVtS",
      "include_colab_link": true
    },
    "kernelspec": {
      "name": "python3",
      "display_name": "Python 3"
    },
    "language_info": {
      "name": "python"
    }
  },
  "cells": [
    {
      "cell_type": "markdown",
      "metadata": {
        "id": "view-in-github",
        "colab_type": "text"
      },
      "source": [
        "<a href=\"https://colab.research.google.com/github/AnumAhte/Oop_21assignments/blob/main/Assignmet21.ipynb\" target=\"_parent\"><img src=\"https://colab.research.google.com/assets/colab-badge.svg\" alt=\"Open In Colab\"/></a>"
      ]
    },
    {
      "cell_type": "markdown",
      "source": [
        "using self"
      ],
      "metadata": {
        "id": "aXNfA1DqUs0D"
      }
    },
    {
      "cell_type": "code",
      "source": [
        "class Student:\n",
        "    def __init__(self, name, marks):\n",
        "        self.name = name\n",
        "        self.marks = marks\n",
        "\n",
        "    def display(self):\n",
        "        print(f\"Name: {self.name}\")\n",
        "        print(f\"Marks: {self.marks}\")\n",
        "\n",
        "# Creating object\n",
        "s1 = Student(\"Ayesha\", 92)\n",
        "\n",
        "# Displaying student details\n",
        "s1.display()\n"
      ],
      "metadata": {
        "colab": {
          "base_uri": "https://localhost:8080/"
        },
        "id": "jiANC8qVUlk-",
        "outputId": "360f47a2-9672-45cd-8830-98f81f957202"
      },
      "execution_count": null,
      "outputs": [
        {
          "output_type": "stream",
          "name": "stdout",
          "text": [
            "Name: Ayesha\n",
            "Marks: 92\n"
          ]
        }
      ]
    },
    {
      "cell_type": "markdown",
      "source": [
        "using cls"
      ],
      "metadata": {
        "id": "2ujqm7hyVKLN"
      }
    },
    {
      "cell_type": "code",
      "source": [
        "class Counter:\n",
        "    count = 0  # class variable\n",
        "\n",
        "    def __init__(self):\n",
        "        Counter.count += 1\n",
        "\n",
        "    @classmethod\n",
        "    def show_count(cls):\n",
        "        print(f\"Total objects created: {cls.count}\")\n",
        "\n",
        "# Creating objects\n",
        "c1 = Counter()\n",
        "c2 = Counter()\n",
        "c3 = Counter()\n",
        "\n",
        "# Displaying count\n",
        "Counter.show_count()\n"
      ],
      "metadata": {
        "colab": {
          "base_uri": "https://localhost:8080/"
        },
        "id": "00CqAYx6VNIk",
        "outputId": "b7d0fae0-be4b-43e9-fb98-4064d408ee17"
      },
      "execution_count": null,
      "outputs": [
        {
          "output_type": "stream",
          "name": "stdout",
          "text": [
            "Total objects created: 3\n"
          ]
        }
      ]
    },
    {
      "cell_type": "markdown",
      "source": [
        "Public Variables and Methods"
      ],
      "metadata": {
        "id": "ZcxjB2KoWTL8"
      }
    },
    {
      "cell_type": "code",
      "source": [
        "class Car:\n",
        "    def __init__(self, brand):\n",
        "        self.brand = brand  # public variable\n",
        "\n",
        "    def start(self):  # public method\n",
        "        print(f\"{self.brand} is starting...\")\n",
        "\n",
        "# Creating object\n",
        "my_car = Car(\"Toyota\")\n",
        "\n",
        "# Accessing public variable\n",
        "print(my_car.brand)\n",
        "\n",
        "# Calling public method\n",
        "my_car.start()\n"
      ],
      "metadata": {
        "colab": {
          "base_uri": "https://localhost:8080/"
        },
        "id": "wxZGhGukWVmp",
        "outputId": "993ad22a-e136-4335-b85c-7a56765da6cb"
      },
      "execution_count": null,
      "outputs": [
        {
          "output_type": "stream",
          "name": "stdout",
          "text": [
            "Toyota\n",
            "Toyota is starting...\n"
          ]
        }
      ]
    },
    {
      "cell_type": "markdown",
      "source": [
        "Class Variables and Class Methods"
      ],
      "metadata": {
        "id": "adYgl1cKXEfr"
      }
    },
    {
      "cell_type": "code",
      "source": [
        "class Bank:\n",
        "    bank_name = \"Default Bank\"  # class variable\n",
        "\n",
        "    def __init__(self, account_holder):\n",
        "        self.account_holder = account_holder\n",
        "\n",
        "    @classmethod\n",
        "    def change_bank_name(cls, name):\n",
        "        cls.bank_name = name\n",
        "\n",
        "    def display(self):\n",
        "        print(f\"Account Holder: {self.account_holder}, Bank: {Bank.bank_name}\")\n",
        "\n",
        "# Creating two accounts\n",
        "acc1 = Bank(\"Ali\")\n",
        "acc2 = Bank(\"Sara\")\n",
        "\n",
        "# Displaying default bank name\n",
        "acc1.display()  # Default Bank\n",
        "acc2.display()  # Default Bank\n",
        "\n",
        "# Changing bank name using class method\n",
        "Bank.change_bank_name(\"Secure Bank\")\n",
        "\n",
        "# Displaying updated bank name\n",
        "acc1.display()  # Secure Bank\n",
        "acc2.display()  # Secure Bank\n"
      ],
      "metadata": {
        "colab": {
          "base_uri": "https://localhost:8080/"
        },
        "id": "BwoiKzPNXF5n",
        "outputId": "8cba7b29-814f-44bb-cb16-33dc0caa958d"
      },
      "execution_count": null,
      "outputs": [
        {
          "output_type": "stream",
          "name": "stdout",
          "text": [
            "Account Holder: Ali, Bank: Default Bank\n",
            "Account Holder: Sara, Bank: Default Bank\n",
            "Account Holder: Ali, Bank: Secure Bank\n",
            "Account Holder: Sara, Bank: Secure Bank\n"
          ]
        }
      ]
    },
    {
      "cell_type": "markdown",
      "source": [
        "Static Variables and Static Method"
      ],
      "metadata": {
        "id": "FtIezW_xBtHp"
      }
    },
    {
      "cell_type": "code",
      "source": [
        "class MathUtils:\n",
        "\n",
        "    @staticmethod\n",
        "    def add(a, b):\n",
        "        return a + b\n",
        "\n",
        "#  Use the static method\n",
        "result = MathUtils.add(5, 7)\n",
        "print(\"Sum:\", result)"
      ],
      "metadata": {
        "id": "sA-klwq3BvP2"
      },
      "execution_count": null,
      "outputs": []
    },
    {
      "cell_type": "markdown",
      "source": [
        "Constructors and Destructors"
      ],
      "metadata": {
        "id": "hbxi3HF_B2XS"
      }
    },
    {
      "cell_type": "code",
      "source": [
        "class Logger:\n",
        "    def __init__(self):\n",
        "        print(\"📢 Logger object created!\")\n",
        "\n",
        "    def __del__(self):\n",
        "        print(\"🗑️ Logger object destroyed!\")\n",
        "\n",
        "#  Object create karte hain\n",
        "log = Logger()\n",
        "\n",
        "#  Object delete karte hain (optional)\n",
        "del log\n"
      ],
      "metadata": {
        "id": "5lU6rHo2B58O"
      },
      "execution_count": null,
      "outputs": []
    },
    {
      "cell_type": "markdown",
      "source": [
        " Access Modifiers: Public, Private, and Protected"
      ],
      "metadata": {
        "id": "Y_yQpnwFCoQX"
      }
    },
    {
      "cell_type": "code",
      "source": [
        "class Employee:\n",
        "    def __init__(self, name, salary, ssn):\n",
        "        self.name = name            # Public\n",
        "        self._salary = salary       # Protected\n",
        "        self.__ssn = ssn            # Private\n",
        "\n",
        "    def display(self):\n",
        "        print(\"Name:\", self.name)\n",
        "        print(\"Salary:\", self._salary)\n",
        "        print(\"SSN:\", self.__ssn)\n",
        "\n",
        "#  Object creating\n",
        "emp = Employee(\"Anum\", 50000, \"123-45-6789\")\n",
        "\n",
        "# Public variable directly access\n",
        "print(emp.name)\n",
        "\n",
        "#  Protected variable directly access (allowed but not recommended)\n",
        "print(emp._salary)\n",
        "\n",
        "# Private variable directly access will throw error\n",
        "# print(emp.__ssn)   #  AttributeError\n",
        "\n",
        "# Private variable can be indirectly access\n",
        "emp.display()\n",
        "\n",
        "# Or access with \"Name Mangling\"  (advance)\n",
        "print(emp._Employee__ssn)\n"
      ],
      "metadata": {
        "colab": {
          "base_uri": "https://localhost:8080/"
        },
        "id": "_o4UEyBrCpcM",
        "outputId": "37a069ed-e719-4baf-fe03-0d898ede42e8"
      },
      "execution_count": null,
      "outputs": [
        {
          "output_type": "stream",
          "name": "stdout",
          "text": [
            "Anum\n",
            "50000\n",
            "Name: Anum\n",
            "Salary: 50000\n",
            "SSN: 123-45-6789\n",
            "123-45-6789\n"
          ]
        }
      ]
    },
    {
      "cell_type": "markdown",
      "source": [
        "The super() Function"
      ],
      "metadata": {
        "id": "UuFQL1iSE5-G"
      }
    },
    {
      "cell_type": "code",
      "source": [
        "class Person:\n",
        "    def __init__(self, name):\n",
        "        self.name = name\n",
        "        print(f\"Person Constructor called: Name = {self.name}\")\n",
        "\n",
        "class Teacher(Person):\n",
        "    def __init__(self, name, subject):\n",
        "        super().__init__(name)   # calling parent class constructor\n",
        "        self.subject = subject\n",
        "        print(f\"Teacher Constructor called: Subject = {self.subject}\")\n",
        "\n",
        "#  Object creating\n",
        "t = Teacher(\"Anum\", \"Math\")\n"
      ],
      "metadata": {
        "colab": {
          "base_uri": "https://localhost:8080/"
        },
        "id": "6_WotwL8E7kw",
        "outputId": "eca5c657-6783-47fd-b9f1-64253a6b0e82"
      },
      "execution_count": null,
      "outputs": [
        {
          "output_type": "stream",
          "name": "stdout",
          "text": [
            "Person Constructor called: Name = Anum\n",
            "Teacher Constructor called: Subject = Math\n"
          ]
        }
      ]
    },
    {
      "cell_type": "markdown",
      "source": [
        "Abstract Classes and Methods"
      ],
      "metadata": {
        "id": "DVqVhK90ICCs"
      }
    },
    {
      "cell_type": "code",
      "source": [
        "from abc import ABC, abstractmethod\n",
        "\n",
        "#  Abstract class\n",
        "class Shape(ABC):\n",
        "\n",
        "    @abstractmethod\n",
        "    def area(self):\n",
        "        pass\n",
        "\n",
        "# Child class which will implement abstract method\n",
        "class Rectangle(Shape):\n",
        "    def __init__(self, width, height):\n",
        "        self.width = width\n",
        "        self.height = height\n",
        "\n",
        "    def area(self):\n",
        "        return self.width * self.height\n",
        "\n",
        "# Rectangle object can be made\n",
        "r1 = Rectangle(5, 4)\n",
        "print(\"Area of rectangle:\", r1.area())\n",
        "\n",
        "#  Shape object can't be make(error)\n",
        "# s1 = Shape()   ← error\n"
      ],
      "metadata": {
        "id": "GJIFl0NgIGnk"
      },
      "execution_count": null,
      "outputs": []
    },
    {
      "cell_type": "markdown",
      "source": [
        "Instance Methods"
      ],
      "metadata": {
        "id": "4xVimdBM379_"
      }
    },
    {
      "cell_type": "code",
      "source": [
        "class Dog:\n",
        "  def __init__(self,name,breed):\n",
        "    self.name= name\n",
        "    self.breed= breed\n",
        "\n",
        "  def bark(self):\n",
        "    print(f\"{self.name} is barking\")\n",
        "\n",
        "dog1 = Dog(\"Tommy\",\"pitbull\")\n",
        "dog1.bark()"
      ],
      "metadata": {
        "colab": {
          "base_uri": "https://localhost:8080/"
        },
        "id": "qSg_TGKIouel",
        "outputId": "21f431a0-5e67-4630-ed5d-17c6f4d9be93"
      },
      "execution_count": null,
      "outputs": [
        {
          "output_type": "stream",
          "name": "stdout",
          "text": [
            "Tommy is barking\n"
          ]
        }
      ]
    },
    {
      "cell_type": "markdown",
      "source": [
        "Class Methods"
      ],
      "metadata": {
        "id": "wt2l5k0F9FtD"
      }
    },
    {
      "cell_type": "code",
      "source": [
        "class Book:\n",
        "    total_books = 0\n",
        "\n",
        "    def __init__(self, title):\n",
        "        self.title = title\n",
        "        Book.increment_book_count()\n",
        "\n",
        "    @classmethod\n",
        "    def increment_book_count(cls):\n",
        "        cls.total_books += 1\n",
        "\n",
        "b1 = Book(\"Python Basics\")\n",
        "b2 = Book(\"OOP Concepts\")\n",
        "\n",
        "print(\"Total Books:\", Book.total_books)\n"
      ],
      "metadata": {
        "colab": {
          "base_uri": "https://localhost:8080/"
        },
        "id": "h6LNcOC79IZZ",
        "outputId": "963f943c-0043-408a-9440-3053a72eda96"
      },
      "execution_count": null,
      "outputs": [
        {
          "output_type": "stream",
          "name": "stdout",
          "text": [
            "Total Books: 2\n"
          ]
        }
      ]
    },
    {
      "cell_type": "markdown",
      "source": [
        "Static Method"
      ],
      "metadata": {
        "id": "siCWjy4d9jSZ"
      }
    },
    {
      "cell_type": "code",
      "source": [
        "class TemperatureConverter:\n",
        "    @staticmethod\n",
        "    def celsius_to_fahrenheit(c):\n",
        "        return (c * 9/5) + 32\n",
        "\n",
        "print(\"37°C =\", TemperatureConverter.celsius_to_fahrenheit(37), \"°F\")\n"
      ],
      "metadata": {
        "id": "IlKuBhiP9mps"
      },
      "execution_count": null,
      "outputs": []
    },
    {
      "cell_type": "markdown",
      "source": [
        "Composition"
      ],
      "metadata": {
        "id": "Asx5GT-j9yyn"
      }
    },
    {
      "cell_type": "code",
      "source": [
        "# creating Engine class\n",
        "class Engine:\n",
        "    def start(self):\n",
        "        print(\"Engine has started \")\n",
        "\n",
        "# Creating Car class\n",
        "class Car:\n",
        "    def __init__(self, engine):  # engine will accept object here\n",
        "        self.engine = engine\n",
        "\n",
        "    def start_car(self):\n",
        "        print(\"Starting the car...\")\n",
        "        self.engine.start()  # with Car engine will work\n",
        "\n",
        "# creat engine object\n",
        "my_engine = Engine()\n",
        "\n",
        "# create car object and paas engine in it\n",
        "my_car = Car(my_engine)\n",
        "\n",
        "# now start the car\n",
        "my_car.start_car()\n"
      ],
      "metadata": {
        "colab": {
          "base_uri": "https://localhost:8080/"
        },
        "id": "YObXTgqd91Cp",
        "outputId": "1e154051-68bf-4369-c9d7-f379ac045d9e"
      },
      "execution_count": null,
      "outputs": [
        {
          "output_type": "stream",
          "name": "stdout",
          "text": [
            "Starting the car...\n",
            "Engine has started 🚗\n"
          ]
        }
      ]
    },
    {
      "cell_type": "markdown",
      "source": [
        "Aggregation"
      ],
      "metadata": {
        "id": "uahQs0Hw__-e"
      }
    },
    {
      "cell_type": "code",
      "source": [
        "# Employee class\n",
        "class Employee:\n",
        "    def __init__(self, name):\n",
        "        self.name = name\n",
        "\n",
        "    def show(self):\n",
        "        print(f\"Employee Name: {self.name}\")\n",
        "\n",
        "# Department class\n",
        "class Department:\n",
        "    def __init__(self, department_name, employee):\n",
        "        self.department_name = department_name\n",
        "        self.employee = employee   # Aggregation - storing reference of employee\n",
        "\n",
        "    def show_department(self):\n",
        "        print(f\"Department: {self.department_name}\")\n",
        "        self.employee.show()\n",
        "\n",
        "# creating employee object\n",
        "emp1 = Employee(\"Anum Ahte\")\n",
        "\n",
        "# creating department object and passing employee in it\n",
        "dept1 = Department(\"IT\", emp1)\n",
        "\n",
        "# lets display both now\n",
        "dept1.show_department()\n"
      ],
      "metadata": {
        "colab": {
          "base_uri": "https://localhost:8080/"
        },
        "id": "Iq_GloR6ACEZ",
        "outputId": "63cdcb73-e5b9-474d-db11-e6bd470a76e2"
      },
      "execution_count": null,
      "outputs": [
        {
          "output_type": "stream",
          "name": "stdout",
          "text": [
            "Department: IT\n",
            "Employee Name: Anum Ahte\n"
          ]
        }
      ]
    },
    {
      "cell_type": "markdown",
      "source": [
        "Method Resolution Order (MRO) and Diamond Inheritance"
      ],
      "metadata": {
        "id": "uAGdv1n8BtKa"
      }
    },
    {
      "cell_type": "code",
      "source": [
        "# Base Class\n",
        "class A:\n",
        "    def show(self):\n",
        "        print(\"Class A show() method\")\n",
        "\n",
        "# B and C inherit A\n",
        "class B(A):\n",
        "    def show(self):\n",
        "        print(\"Class B show() method\")\n",
        "\n",
        "class C(A):\n",
        "    def show(self):\n",
        "        print(\"Class C show() method\")\n",
        "\n",
        "# D inherits B and C (Diamond Shape)\n",
        "class D(B, C):\n",
        "    pass\n",
        "\n",
        "# Object of D\n",
        "d = D()\n",
        "d.show()\n",
        "\n",
        "# Let's see MRO\n",
        "print(D.mro())\n"
      ],
      "metadata": {
        "colab": {
          "base_uri": "https://localhost:8080/"
        },
        "id": "tMQiR9d9BvFh",
        "outputId": "30d709a2-7507-4a0f-e8c9-65a6cf851a47"
      },
      "execution_count": null,
      "outputs": [
        {
          "output_type": "stream",
          "name": "stdout",
          "text": [
            "Class B show() method\n",
            "[<class '__main__.D'>, <class '__main__.B'>, <class '__main__.C'>, <class '__main__.A'>, <class 'object'>]\n"
          ]
        }
      ]
    },
    {
      "cell_type": "markdown",
      "source": [
        "Function Decorators"
      ],
      "metadata": {
        "id": "zfn68HhqC1hx"
      }
    },
    {
      "cell_type": "code",
      "source": [
        "# Decorator Function\n",
        "def log_function_call(func):\n",
        "    def wrapper():\n",
        "        print(\"Function is being called\")  # Extra work\n",
        "        return func()  # Original function\n",
        "    return wrapper\n",
        "\n",
        "# Decorator applied\n",
        "@log_function_call\n",
        "def say_hello():\n",
        "    print(\"Hello, how are you?\")\n",
        "\n",
        "# Function call\n",
        "say_hello()\n"
      ],
      "metadata": {
        "id": "hEF_uYd_C8SB"
      },
      "execution_count": null,
      "outputs": []
    },
    {
      "cell_type": "markdown",
      "source": [
        "Class Decorators"
      ],
      "metadata": {
        "id": "yx5ZJBZA3n4A"
      }
    },
    {
      "cell_type": "code",
      "source": [
        "# Class Decorator Function\n",
        "def add_greeting(cls):\n",
        "    def greet(self):\n",
        "        return \"Hello from Decorator!\"\n",
        "\n",
        "    cls.greet = greet  # added greet method in class\n",
        "    return cls\n",
        "\n",
        "# appying decorator in class\n",
        "@add_greeting\n",
        "class Person:\n",
        "    def __init__(self, name):\n",
        "        self.name = name\n",
        "\n",
        "# Object creating\n",
        "p1 = Person(\"Anum\")\n",
        "\n",
        "# greet() call karo\n",
        "print(p1.greet())\n"
      ],
      "metadata": {
        "colab": {
          "base_uri": "https://localhost:8080/"
        },
        "id": "XeKewEGo3pIJ",
        "outputId": "8abb6903-5345-4c99-961b-9d9572c4a56a"
      },
      "execution_count": null,
      "outputs": [
        {
          "output_type": "stream",
          "name": "stdout",
          "text": [
            "Hello from Decorator!\n"
          ]
        }
      ]
    },
    {
      "cell_type": "markdown",
      "source": [
        "Property Decorators"
      ],
      "metadata": {
        "id": "YjgQ4wTf5sYE"
      }
    },
    {
      "cell_type": "code",
      "source": [
        "class Product:\n",
        "    def __init__(self, price):\n",
        "        self._price = price   # Private-like variable\n",
        "\n",
        "    # Getter method (for reading price)\n",
        "    @property\n",
        "    def price(self):\n",
        "        return self._price\n",
        "\n",
        "    # Setter method (for updating price)\n",
        "    @price.setter\n",
        "    def price(self, new_price):\n",
        "        if new_price > 0:\n",
        "            self._price = new_price\n",
        "        else:\n",
        "            print(\" Price must be positive\")\n",
        "\n",
        "    # Deleter method (for deleting price)\n",
        "    @price.deleter\n",
        "    def price(self):\n",
        "        print(\" Deleting price...\")\n",
        "        del self._price\n",
        "\n",
        "\n",
        "# --- Testing ---\n",
        "p1 = Product(100)\n",
        "\n",
        "# 1 Get price\n",
        "print(p1.price)   #  100\n",
        "\n",
        "# 2 Update price\n",
        "p1.price = 150\n",
        "print(p1.price)   #  150\n",
        "\n",
        "# 3 Invalid price\n",
        "p1.price = -20    #  Price must be positive\n",
        "\n",
        "# 4 Delete price\n",
        "del p1.price\n",
        "\n",
        "# 5 Try accessing deleted price\n",
        "# print(p1.price)   #  Error (AttributeError)\n"
      ],
      "metadata": {
        "colab": {
          "base_uri": "https://localhost:8080/"
        },
        "id": "mF9Okhgm5tqa",
        "outputId": "7eb5ddbc-bdae-45f1-e461-f945fef59313"
      },
      "execution_count": null,
      "outputs": [
        {
          "output_type": "stream",
          "name": "stdout",
          "text": [
            "100\n",
            "150\n",
            " Price must be positive\n",
            " Deleting price...\n"
          ]
        }
      ]
    },
    {
      "cell_type": "markdown",
      "source": [
        "callable() and __call__()\n"
      ],
      "metadata": {
        "id": "9IRPilRL8IFS"
      }
    },
    {
      "cell_type": "code",
      "source": [
        "class Multiplier:\n",
        "    def __init__(self, factor):\n",
        "        self.factor = factor   # Factor storing\n",
        "\n",
        "    def __call__(self, number):\n",
        "        # when calling object → this will work\n",
        "        return number * self.factor\n",
        "\n",
        "\n",
        "# --- creating object ---\n",
        "m = Multiplier(5)   # factor = 5\n",
        "\n",
        "# --- Check: if object is callable? ---\n",
        "print(callable(m))   # True\n",
        "\n",
        "# --- call object like function ---\n",
        "result = m(10)      # __call__(10)  → 10 * 5\n",
        "print(result)       #  50\n",
        "\n",
        "# --- second example ---\n",
        "result2 = m(7)      # 7 * 5 = 35\n",
        "print(result2)      #  35\n"
      ],
      "metadata": {
        "colab": {
          "base_uri": "https://localhost:8080/"
        },
        "id": "g8VIihfI8KXw",
        "outputId": "8732d415-d6be-4350-842b-491a59e36568"
      },
      "execution_count": null,
      "outputs": [
        {
          "output_type": "stream",
          "name": "stdout",
          "text": [
            "True\n",
            "50\n",
            "35\n"
          ]
        }
      ]
    },
    {
      "cell_type": "markdown",
      "source": [
        "Creating a Custom Exception"
      ],
      "metadata": {
        "id": "faYwUbaV9I5K"
      }
    },
    {
      "cell_type": "code",
      "source": [
        "# --- Step 1: Custom Exception Class ---\n",
        "class InvalidAgeError(Exception):  # Exception inheriting\n",
        "    pass\n",
        "\n",
        "\n",
        "# --- Step 2: Function for checking age ---\n",
        "def check_age(age):\n",
        "    if age < 18:\n",
        "        raise InvalidAgeError(\" Age must be at least 18\")  # error\n",
        "    else:\n",
        "        print(\"✅ Age is valid\")\n",
        "\n",
        "\n",
        "# --- Step 3: Use try-except to handle exception ---\n",
        "try:\n",
        "    user_age = int(input(\"Enter your age: \"))  # input\n",
        "    check_age(user_age)\n",
        "\n",
        "except InvalidAgeError as e:\n",
        "    print(e)\n",
        "\n"
      ],
      "metadata": {
        "colab": {
          "base_uri": "https://localhost:8080/"
        },
        "id": "eLVScpvY9QOG",
        "outputId": "ffb63fa0-66e3-4868-b08c-8a798d1e1445"
      },
      "execution_count": null,
      "outputs": [
        {
          "output_type": "stream",
          "name": "stdout",
          "text": [
            "Enter your age: 16\n",
            " Age must be at least 18\n"
          ]
        }
      ]
    },
    {
      "cell_type": "markdown",
      "source": [
        "Make a Custom Class Iterable"
      ],
      "metadata": {
        "id": "8gSQhpnl-pPL"
      }
    },
    {
      "cell_type": "code",
      "source": [
        "class Countdown:\n",
        "    def __init__(self, start):\n",
        "        self.current = start   # Starting number\n",
        "\n",
        "    def __iter__(self):\n",
        "        return self   # Iterator is class object\n",
        "\n",
        "    def __next__(self):\n",
        "        if self.current < 0:   # when less than 0 stop\n",
        "            raise StopIteration\n",
        "        else:\n",
        "            number = self.current\n",
        "            self.current -= 1\n",
        "            return number\n",
        "\n",
        "# --- Class  object ---\n",
        "count = Countdown(5)\n",
        "\n",
        "# --- For loop is working on our class ---\n",
        "for num in count:\n",
        "    print(num)\n"
      ],
      "metadata": {
        "colab": {
          "base_uri": "https://localhost:8080/"
        },
        "id": "E9pp8r-p-tBc",
        "outputId": "959f5d95-1816-4b78-9d5e-2c87482471b2"
      },
      "execution_count": null,
      "outputs": [
        {
          "output_type": "stream",
          "name": "stdout",
          "text": [
            "5\n",
            "4\n",
            "3\n",
            "2\n",
            "1\n",
            "0\n"
          ]
        }
      ]
    }
  ]
}